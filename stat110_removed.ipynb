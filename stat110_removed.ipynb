{
 "metadata": {
  "kernelspec": {
   "display_name": "Python 2",
   "language": "python",
   "name": "python2"
  },
  "language_info": {
   "codemirror_mode": {
    "name": "ipython",
    "version": 2
   },
   "file_extension": ".py",
   "mimetype": "text/x-python",
   "name": "python",
   "nbconvert_exporter": "python",
   "pygments_lexer": "ipython2",
   "version": "2.7.10"
  },
  "name": ""
 },
 "nbformat": 3,
 "nbformat_minor": 0,
 "worksheets": [
  {
   "cells": [
    {
     "cell_type": "code",
     "collapsed": false,
     "input": [
      "%matplotlib\n",
      "import seaborn as sns\n",
      "\n",
      "import pandas as pd\n",
      "import numpy as np\n",
      "\n",
      "import seaborn\n",
      "\n",
      "from matplotlib import pylab as plt\n",
      "\n",
      "from collections import defaultdict\n",
      "\n",
      "from __future__ import with_statement"
     ],
     "language": "python",
     "metadata": {},
     "outputs": [],
     "prompt_number": 24
    },
    {
     "cell_type": "code",
     "collapsed": true,
     "input": [
      "gradefile = \"stat110.csv\""
     ],
     "language": "python",
     "metadata": {},
     "outputs": [],
     "prompt_number": 4
    },
    {
     "cell_type": "code",
     "collapsed": false,
     "input": [
      "grades = pd.read_csv(gradefile)"
     ],
     "language": "python",
     "metadata": {},
     "outputs": [],
     "prompt_number": 5
    },
    {
     "cell_type": "code",
     "collapsed": false,
     "input": [
      "# drop top two rows (:points possible, NaN)\n",
      "grades = grades.drop([0,1],axis=0)"
     ],
     "language": "python",
     "metadata": {},
     "outputs": [],
     "prompt_number": 6
    },
    {
     "cell_type": "code",
     "collapsed": false,
     "input": [
      "# we're writing out student names so we can fill in gender data manually \n",
      "sfile = \"students.csv\"\n",
      "\n",
      "try:\n",
      "    rstudents = pd.read_csv(sfile)\n",
      "    grades['Gender'] = list(rstudents['Gender'])\n",
      "except EnvironmentError:\n",
      "    grades['Gender'] = None"
     ],
     "language": "python",
     "metadata": {},
     "outputs": [],
     "prompt_number": 7
    },
    {
     "cell_type": "code",
     "collapsed": true,
     "input": [
      "google_doc = \"google_doc.csv\"\n",
      "google = pd.read_csv(google_doc)\n",
      "names = pd.read_csv(\"names.csv\")"
     ],
     "language": "python",
     "metadata": {},
     "outputs": [],
     "prompt_number": 8
    },
    {
     "cell_type": "code",
     "collapsed": false,
     "input": [
      "grades"
     ],
     "language": "python",
     "metadata": {},
     "outputs": [],
     "prompt_number": 9
    },
    {
     "cell_type": "code",
     "collapsed": false,
     "input": [
      "names.columns, google.columns, grades.columns"
     ],
     "language": "python",
     "metadata": {},
     "outputs": [],
     "prompt_number": 10
    },
    {
     "cell_type": "code",
     "collapsed": false,
     "input": [
      "# Join the names to the midterms, so then we can join the result to the canvas data\n",
      "googleNames = pd.merge(google, names, left_on=\"Name\", right_on=\"Doc\")\n",
      "\n",
      "# For some reason, 'HW2 electronic?' column comes in as 'object' type rather than float.\n",
      "# This is likely due to the fact that someone input Score(...) as a value for the column.\n",
      "# We do this for all the columns in place!\n",
      "keys = ['HW2', 'HW3', 'HW4', 'HW5', 'HW6', 'HW7']\n",
      "for key in keys:\n",
      "    googleNames[key + ' electronic?'] = googleNames[key + ' electronic?'].convert_objects(convert_numeric=True)\n",
      "print \"Finished converting all of the values!\""
     ],
     "language": "python",
     "metadata": {},
     "outputs": [],
     "prompt_number": 11
    },
    {
     "cell_type": "code",
     "collapsed": false,
     "input": [
      "googleNames.columns"
     ],
     "language": "python",
     "metadata": {},
     "outputs": [],
     "prompt_number": 12
    },
    {
     "cell_type": "code",
     "collapsed": false,
     "input": [
      "# Now join to the canvas\n",
      "joinedResults = pd.merge(googleNames, grades, left_on=\"Canvas\", right_on=\"Student\")\n",
      "joinedResults.columns"
     ],
     "language": "python",
     "metadata": {},
     "outputs": [],
     "prompt_number": 13
    },
    {
     "cell_type": "code",
     "collapsed": false,
     "input": [
      "joinedResults['Homework 7 (53575)']"
     ],
     "language": "python",
     "metadata": {},
     "outputs": [],
     "prompt_number": 14
    },
    {
     "cell_type": "code",
     "collapsed": false,
     "input": [
      "# Keep the important columns\n",
      "toKeep = ['Doc', 'M1', 'M2', 'M3', 'M4', 'M', 'Homework 1 (42101)', 'Homework 2 (46145)', 'Homework 3 (47478)', 'Homework 4 (48482)']\n",
      "toKeep += ['HW4 electronic?', 'HW3 electronic?', 'HW2 electronic?', 'Student', 'Gender' ]\n",
      "toKeep += ['Homework 7 (53575)', 'HW7 electronic?', 'Homework 6 (52035)', 'HW6 electronic?', 'Homework 5 (50651)', 'HW5 electronic?']"
     ],
     "language": "python",
     "metadata": {},
     "outputs": [],
     "prompt_number": 15
    },
    {
     "cell_type": "code",
     "collapsed": false,
     "input": [
      "dataAll = joinedResults[toKeep]"
     ],
     "language": "python",
     "metadata": {},
     "outputs": [],
     "prompt_number": 16
    },
    {
     "cell_type": "code",
     "collapsed": false,
     "input": [
      "def getpset(pset, source=grades):\n",
      "    subset = source\n",
      "    # print len(grades)\n",
      "    # make prettry\n",
      "    import re\n",
      "    subset = subset.filter(regex=pset)\n",
      "    subset.columns = [re.sub(r'\\([^)]*\\)', '', name) for name in subset.columns]\n",
      "    \n",
      "    subset = subset.convert_objects(convert_numeric=True)\n",
      "    # print len(subset)\n",
      "    \n",
      "    # we remove user who received a score of zero if from extension\n",
      "    subset = subset[subset[subset.columns[-1]] > 0]\n",
      "    # print len(subset)\n",
      "    \n",
      "    # we add in the Student and Gender Columns\n",
      "    subset['Student'] = source.Student\n",
      "    subset['Gender'] = source.Gender\n",
      "        \n",
      "    # reorder columns\n",
      "    subset = subset.ix[:,[subset.columns[-2],subset.columns[-1]] + list(subset.columns[:len(subset.columns) - 2])]\n",
      "    # print len(subset)\n",
      "    return subset"
     ],
     "language": "python",
     "metadata": {},
     "outputs": [],
     "prompt_number": 17
    },
    {
     "cell_type": "code",
     "collapsed": false,
     "input": [
      "def make_corr_plot(d, title=\"plot\"):\n",
      "    f, ax = plt.subplots(figsize=(9, 9))\n",
      "    cmap = sns.diverging_palette(220, 10, as_cmap=True)\n",
      "    sns.corrplot(d, annot=False, sig_stars=False,\n",
      "                 diag_names=False, cmap=cmap, ax=ax)\n",
      "    f.tight_layout()\n",
      "    plt.title(title)\n",
      "    f.savefig(title)"
     ],
     "language": "python",
     "metadata": {},
     "outputs": [],
     "prompt_number": 18
    },
    {
     "cell_type": "code",
     "collapsed": false,
     "input": [
      "def make_histogram(d, title=\"histogram\",xlabel=\"Score (ouf of 42)\",step=5):\n",
      "    fig = plt.figure()\n",
      "    ax = fig.add_subplot(111)\n",
      "    d = d.dropna()\n",
      "    nd = []\n",
      "    for el in d:\n",
      "        try:\n",
      "            if el != 0:\n",
      "                nd.append(float(el))\n",
      "            else:\n",
      "                print \"Removed grade\"\n",
      "        except ValueError:\n",
      "            pass\n",
      "    ax.hist(nd,bins=range(0,int(max(d))+step,step),alpha=0.8,align='mid')\n",
      "    plt.title(title + \" Histogram\")\n",
      "    plt.xlabel(xlabel)\n",
      "    plt.ylabel(\"Frequency\")\n",
      "\n",
      "    fig.savefig(title + \".png\")"
     ],
     "language": "python",
     "metadata": {},
     "outputs": [],
     "prompt_number": 19
    },
    {
     "cell_type": "code",
     "collapsed": false,
     "input": [
      "# on campus mean\n",
      "def stats(pset, percent=True):\n",
      "    if percent:\n",
      "        print \"Mean: {:.2f}% (standard deviation {:.2f}%)\\n Median {:.2f}%\\n Lower Quartile: {:.2f}%\\n Upper Quartile: {:.2f}%\\n Min: {:.2f}%\\n Max: {:.2f}%\".format(\n",
      "            np.mean(pset), np.std(pset),np.median(pset), np.percentile(pset,25), np.percentile(pset,75), min(pset),max(pset))\n",
      "    else:\n",
      "        print \"Mean: {:.2f} (standard deviation {:.2f})\\n Median {:.2f}\\n Lower Quartile: {:.2f}\\n Upper Quartile: {:.2f}\\n Min: {:.2f}\\n Max: {:.2f}\".format(\n",
      "            np.mean(pset), np.std(pset),np.median(pset), np.percentile(pset,25), np.percentile(pset,75), min(pset),max(pset))"
     ],
     "language": "python",
     "metadata": {},
     "outputs": [],
     "prompt_number": 20
    },
    {
     "cell_type": "code",
     "collapsed": false,
     "input": [
      "def filterPset(pset, t=None, source=dataAll):\n",
      "    # Filters based on the type of the grade for `pset'. If t parameter is None, then we keep all the grades.\n",
      "    # If t is True, we keep only the electronic copies.\n",
      "    # If t is False, we keep only the paper copies.\n",
      "    # pset should really be in type 'HWx electronic?'\n",
      "    \n",
      "    # Drop NAs\n",
      "    source.dropna(subset=[pset])\n",
      "    \n",
      "    # Which do we keep?\n",
      "    keepType = [1, 0] if t is None else [1] if t else [0]\n",
      "    \n",
      "    # Filter on data type we've decided to keep\n",
      "    return source[source[pset].isin(keepType)]"
     ],
     "language": "python",
     "metadata": {},
     "outputs": [],
     "prompt_number": 21
    },
    {
     "cell_type": "code",
     "collapsed": false,
     "input": [
      "len(filterPset(\"HW7 electronic?\")), len(filterPset(\"HW7 electronic?\", t=True)), len(filterPset(\"HW7 electronic?\", t=False))"
     ],
     "language": "python",
     "metadata": {},
     "outputs": [],
     "prompt_number": 22
    },
    {
     "cell_type": "code",
     "collapsed": false,
     "input": [
      "\n",
      "hws = ['2', '3', '4', '5', '6', '7']\n",
      "types = [('All', None), ('Electronic', True), ('Paper', False)]\n",
      "statistics = {} # We have a key: (Mean, Std, Median, LQ, UQ, Min, Max)\n",
      "\n",
      "timeSeries = defaultdict(list) # We have statistic: [] a list of items which contains the statistic for each homework in hws.\n",
      "# Note that the order follows the order specified in hws!\n",
      "\n",
      "for hw in hws:\n",
      "    for text, t in types:\n",
      "        res = getpset(\"Homework {}\".format(hw), source=filterPset(\"HW{} electronic?\".format(hw), t=t))\n",
      "        \n",
      "        # Calculate the statistics and print the results out\n",
      "        print \"Results for Homework {} ({})\".format(hw, text)\n",
      "        print \"Number of samples is {}\".format(len(res))\n",
      "        column = res[\"Homework {} \".format(hw)]\n",
      "        stats(column , percent=False)\n",
      "        print \"\"\n",
      "        \n",
      "        # We're collecting some statistics so we can plot them later. \n",
      "        statistics[\"HW{} ({})\".format(hw, text)] = (\n",
      "            hw, t, \n",
      "            np.mean(column),\n",
      "            np.std(column),\n",
      "            np.median(column),\n",
      "            np.percentile(column, 25),\n",
      "            np.percentile(column, 75),\n",
      "            min(column), max(column))\n",
      "        \n",
      "        timeSeries['{}_mean'.format(text)].append(np.mean(column))\n",
      "        # timeSeries['{}_std_dev'.format(text)].append(np.std(column))\n",
      "        timeSeries['{}_median'.format(text)].append(np.median(column))\n",
      "        timeSeries['{}_count'.format(text)].append(len(column))\n",
      "        #timeSeries['lower_quartile'].append(np.percentile(column, 25))\n",
      "        #timeSeries['upper_quartile'].append(np.percentile(column, 75))\n",
      "        #timeSeries['min'].append(min(column))\n",
      "        #timeSeries['max'].append(max(column))"
     ],
     "language": "python",
     "metadata": {},
     "outputs": [],
     "prompt_number": 46
    },
    {
     "cell_type": "code",
     "collapsed": false,
     "input": [
      "for statistic in timeSeries:\n",
      "    if 'std_dev' not in statistic and 'count' not in statistic:\n",
      "        plt.plot(range(2,8), timeSeries[statistic], label=statistic)\n",
      "plt.legend()\n",
      "plt.title(\"Statistics Over Time for Stat 110 Homework Assignments\")\n",
      "plt.xlabel(\"Homework Number\")\n",
      "plt.ylabel(\"Statistic (out of 42)\")\n",
      "plt.ylim((37,42))\n",
      "plt.show()"
     ],
     "language": "python",
     "metadata": {},
     "outputs": [],
     "prompt_number": 52
    },
    {
     "cell_type": "code",
     "collapsed": false,
     "input": [
      "for statistic in timeSeries:\n",
      "    if 'count' in statistic:\n",
      "        plt.plot(range(2,8), timeSeries[statistic], label=statistic)\n",
      "plt.legend()\n",
      "plt.title(\"Homework Submissions for Statistics 110\")\n",
      "plt.ylabel(\"#Submissions\")\n",
      "plt.xlabel(\"Homework Number\")\n",
      "plt.show()"
     ],
     "language": "python",
     "metadata": {},
     "outputs": [],
     "prompt_number": 53
    },
    {
     "cell_type": "code",
     "collapsed": false,
     "input": [
      "hw_means = []\n",
      "hw_std = []\n",
      "for hw in hws:\n",
      "    hw_means.append([ (x[2]) for k,x in sorted(statistics.items()) if x[0] == hw])\n",
      "    hw_std.append([ x[3] for k,x in sorted(statistics.items()) if x[0] == hw])\n",
      "hw_means = pd.DataFrame(hw_means)\n",
      "hw_std = pd.DataFrame(hw_std)"
     ],
     "language": "python",
     "metadata": {},
     "outputs": [],
     "prompt_number": 23
    },
    {
     "cell_type": "code",
     "collapsed": false,
     "input": [
      "allT, allTStd = hw_means.ix[:, 0], hw_std.ix[:, 0]\n",
      "electronic, electronicStd = hw_means.ix[:, 1], hw_std.ix[:, 0]\n",
      "paper, paperStd = hw_means.ix[:, 2], hw_std.ix[:, 0]"
     ],
     "language": "python",
     "metadata": {},
     "outputs": [],
     "prompt_number": 24
    },
    {
     "cell_type": "code",
     "collapsed": false,
     "input": [
      "hw_std"
     ],
     "language": "python",
     "metadata": {},
     "outputs": [],
     "prompt_number": 25
    },
    {
     "cell_type": "code",
     "collapsed": false,
     "input": [
      "N = len(hws)\n",
      "ind = np.arange(N)\n",
      "width = 0.2\n",
      "\n",
      "fig, ax = plt.subplots()\n",
      "rects1 = ax.bar(ind, allT, width, color='r', yerr=allTStd)\n",
      "rects2 = ax.bar(ind+width, electronic, width, color='y', yerr=electronicStd)\n",
      "rects3 = ax.bar(ind+2*width, paper, width, color='b', yerr=paperStd)\n",
      "\n",
      "# add some text for labels, title and axes ticks\n",
      "ax.set_ylabel('Mean Score')\n",
      "ax.set_title('Mean Homework Scores by Type')\n",
      "ax.set_xticks(ind+1.5*width)\n",
      "ax.set_xticklabels( ('HW2', 'HW3', 'HW4', 'HW5') )\n",
      "\n",
      "ax.legend( (rects1[0], rects2[0], rects3[0]), ('All', 'Electronic', 'Paper') )\n",
      "\n",
      "def autolabel(rects):\n",
      "    # attach some text labels\n",
      "    for rect in rects:\n",
      "        height = rect.get_height()\n",
      "        ax.text(rect.get_x()+rect.get_width()/2., 1.05*height, '%f'%height,\n",
      "                ha='center', va='bottom')\n",
      "\n",
      "autolabel(rects1)\n",
      "autolabel(rects2)\n",
      "autolabel(rects3)"
     ],
     "language": "python",
     "metadata": {},
     "outputs": [],
     "prompt_number": 26
    },
    {
     "cell_type": "code",
     "collapsed": false,
     "input": [
      "hw_name = 'Homework 7 '\n",
      "hw = getpset(hw_name)\n",
      "make_histogram(hw[hw_name], hw_name, \"Score (of of 42, step=3)\", step=3)"
     ],
     "language": "python",
     "metadata": {},
     "outputs": [],
     "prompt_number": 27
    },
    {
     "cell_type": "code",
     "collapsed": false,
     "input": [
      "stats(hw[hw_name], percent=False)"
     ],
     "language": "python",
     "metadata": {},
     "outputs": [],
     "prompt_number": 28
    },
    {
     "cell_type": "code",
     "collapsed": false,
     "input": [
      "# We reuse the homeworks to plot the average score on a pset broken by type compared with the average score\n",
      "# on the midterm.\n",
      "statistics_midterm = {} # We have a key: (Mean, Std, Median, LQ, UQ, Min, Max)\n",
      "for hw in hws:\n",
      "    for text, t in types:\n",
      "        res = getpset(\"M\", source=filterPset(\"HW{} electronic?\".format(hw), t=t))\n",
      "        midterm = res[\"M\"]\n",
      "        \n",
      "        print \"Results for Homework {} ({})\".format(hw, text)\n",
      "        print \"Number of samples is {}\".format(len(res))\n",
      "        stats(midterm , percent=False)\n",
      "        print \"\"\n",
      "        \n",
      "        # Calculate some statistics\n",
      "        statistics_midterm[\"HW{} ({})\".format(hw, text)] = (\n",
      "            hw, t, \n",
      "            len(midterm),\n",
      "            np.mean(midterm),\n",
      "            np.std(midterm),\n",
      "            np.median(midterm),\n",
      "            np.percentile(midterm, 25),\n",
      "            np.percentile(midterm, 75),\n",
      "            min(midterm), max(midterm))"
     ],
     "language": "python",
     "metadata": {
      "scrolled": true
     },
     "outputs": [],
     "prompt_number": null
    },
    {
     "cell_type": "code",
     "collapsed": false,
     "input": [
      "midterm_means = []\n",
      "midterm_std = []\n",
      "midterm_meadians = []\n",
      "for hw in hws:\n",
      "    midterm_means.append([ (x[3]) for k,x in sorted(statistics_midterm.items()) if x[0] == hw])\n",
      "    midterm_std.append([ x[4] for k,x in sorted(statistics_midterm.items()) if x[0] == hw])\n",
      "    midterm_meadians.append([ x[5] for k,x in sorted(statistics_midterm.items()) if x[0] == hw])\n",
      "midterm_means = pd.DataFrame(midterm_means)\n",
      "midterm_std = pd.DataFrame(midterm_std)\n",
      "midterm_meadians = pd.DataFrame(midterm_meadians)"
     ],
     "language": "python",
     "metadata": {},
     "outputs": [],
     "prompt_number": null
    },
    {
     "cell_type": "code",
     "collapsed": false,
     "input": [
      "allT, allTStd = midterm_means.ix[:, 0], midterm_std.ix[:, 0]\n",
      "electronic, electronicStd = midterm_means.ix[:, 1], midterm_std.ix[:, 0]\n",
      "paper, paperStd = midterm_means.ix[:, 2], midterm_std.ix[:, 0]"
     ],
     "language": "python",
     "metadata": {},
     "outputs": [],
     "prompt_number": null
    },
    {
     "cell_type": "code",
     "collapsed": false,
     "input": [
      "N = len(hws)\n",
      "ind = np.arange(N)\n",
      "width = 0.2\n",
      "\n",
      "fig, ax = plt.subplots()\n",
      "rects1 = ax.bar(ind, allT, width, color='r', yerr=allTStd)\n",
      "rects2 = ax.bar(ind+width, electronic, width, color='y', yerr=electronicStd)\n",
      "rects3 = ax.bar(ind+2*width, paper, width, color='b', yerr=paperStd)\n",
      "\n",
      "# add some text for labels, title and axes ticks\n",
      "ax.set_ylabel('Mean Score')\n",
      "ax.set_title('Mean Midterm Scores by Homework Type Submissions')\n",
      "ax.set_xticks(ind+1.5*width)\n",
      "ax.set_xticklabels( ('HW2', 'HW3', 'HW4', 'HW5') )\n",
      "\n",
      "ax.legend( (rects1[0], rects2[0], rects3[0]), ('All', 'Electronic', 'Paper') )\n",
      "\n",
      "def autolabel(rects):\n",
      "    # attach some text labels\n",
      "    for rect in rects:\n",
      "        height = rect.get_height()\n",
      "        ax.text(rect.get_x()+rect.get_width()/2., 1.05*height, '%f'%height,\n",
      "                ha='center', va='bottom')\n",
      "\n",
      "autolabel(rects1)\n",
      "autolabel(rects2)\n",
      "autolabel(rects3)"
     ],
     "language": "python",
     "metadata": {},
     "outputs": [],
     "prompt_number": null
    },
    {
     "cell_type": "code",
     "collapsed": false,
     "input": [
      "make_histogram(midtermClean.M, \"Midterm Points\", \"Score (out of 50)\", step=5)"
     ],
     "language": "python",
     "metadata": {},
     "outputs": [],
     "prompt_number": null
    },
    {
     "cell_type": "code",
     "collapsed": false,
     "input": [
      "stats(midtermClean.M, percent=False)"
     ],
     "language": "python",
     "metadata": {},
     "outputs": [],
     "prompt_number": null
    },
    {
     "cell_type": "code",
     "collapsed": false,
     "input": [
      "midterm2 = getpset(\"Midterm 2\")\n",
      "midterm2e = getpset(\"Midterm 2\", True)"
     ],
     "language": "python",
     "metadata": {},
     "outputs": [],
     "prompt_number": null
    },
    {
     "cell_type": "code",
     "collapsed": false,
     "input": [
      "midterm2.ix[:,:8].head(10)"
     ],
     "language": "python",
     "metadata": {},
     "outputs": [],
     "prompt_number": null
    },
    {
     "cell_type": "code",
     "collapsed": false,
     "input": [
      "m2 = midterm2.ix[:,:6].astype(float)\n",
      "m2e = midterm2e.ix[:,:6].astype(float)\n",
      "\n",
      "totals = [8.,10.,11.,8.,10.,8.]\n",
      "for i,total in enumerate(totals):\n",
      "    m2.ix[:,i] = m2.ix[:,i] / total\n",
      "    m2e.ix[:,i] = m2e.ix[:,i] / total\n",
      "\n",
      "corrm2 = m2.corr()\n",
      "corrm2e = m2e.corr()"
     ],
     "language": "python",
     "metadata": {},
     "outputs": [],
     "prompt_number": null
    },
    {
     "cell_type": "code",
     "collapsed": false,
     "input": [
      "m2.max(axis=0), midterm2.max(axis=0)"
     ],
     "language": "python",
     "metadata": {},
     "outputs": [],
     "prompt_number": null
    },
    {
     "cell_type": "code",
     "collapsed": false,
     "input": [
      "m2.head(10)"
     ],
     "language": "python",
     "metadata": {},
     "outputs": [],
     "prompt_number": null
    },
    {
     "cell_type": "code",
     "collapsed": false,
     "input": [
      "make_corr_plot(m2, \"Midterm 2 Correlation\")\n",
      "make_corr_plot(m2e, \"Midterm 2 Correlation Extention\")"
     ],
     "language": "python",
     "metadata": {},
     "outputs": [],
     "prompt_number": null
    },
    {
     "cell_type": "code",
     "collapsed": false,
     "input": [
      "corrm2.head(10)"
     ],
     "language": "python",
     "metadata": {},
     "outputs": [],
     "prompt_number": null
    },
    {
     "cell_type": "code",
     "collapsed": false,
     "input": [
      "stats(midterm2['Midterm 2 Current Score'])\n",
      "stats(midterm2e['Midterm 2 Current Score'])"
     ],
     "language": "python",
     "metadata": {},
     "outputs": [],
     "prompt_number": null
    },
    {
     "cell_type": "code",
     "collapsed": false,
     "input": [
      "for col, cole in zip(exam.columns[2:],exame.columns[2:]):\n",
      "    print \"Statistics for {}.\".format(col)\n",
      "    stats(exam[col],False)\n",
      "    stats(exame[cole],False)"
     ],
     "language": "python",
     "metadata": {},
     "outputs": [],
     "prompt_number": null
    },
    {
     "cell_type": "code",
     "collapsed": false,
     "input": [
      "make_histogram(midterm2['Midterm 2 Current Score'], 'Midterm 2',numBins=10)\n",
      "make_histogram(midterm2e['Midterm 2 Current Score'], 'Midterm 2',numBins=5)"
     ],
     "language": "python",
     "metadata": {},
     "outputs": [],
     "prompt_number": null
    },
    {
     "cell_type": "code",
     "collapsed": false,
     "input": [
      "ungraded = ['Extra Credit Final Score', 'Midterm Private Final Score']\n",
      "percentiles = getpset(\"Final Score\").drop(ungraded,axis=1)\n",
      "percentilese = getpset(\"Final Score\",True).drop(ungraded,axis=1)"
     ],
     "language": "python",
     "metadata": {},
     "outputs": [],
     "prompt_number": null
    },
    {
     "cell_type": "code",
     "collapsed": false,
     "input": [
      "percentiles.head(10)"
     ],
     "language": "python",
     "metadata": {},
     "outputs": [],
     "prompt_number": null
    },
    {
     "cell_type": "code",
     "collapsed": false,
     "input": [
      "# normalize the percentiles\n",
      "corrp = percentiles.corr()\n",
      "corrpe = percentilese.corr()"
     ],
     "language": "python",
     "metadata": {},
     "outputs": [],
     "prompt_number": null
    },
    {
     "cell_type": "code",
     "collapsed": false,
     "input": [
      "corrpe"
     ],
     "language": "python",
     "metadata": {},
     "outputs": [],
     "prompt_number": null
    },
    {
     "cell_type": "code",
     "collapsed": false,
     "input": [
      "make_corr_plot(percentiles,title=\"Grade Correlation\")\n",
      "make_corr_plot(percentilese,title=\"Grade Correlation Extension\")"
     ],
     "language": "python",
     "metadata": {},
     "outputs": [],
     "prompt_number": null
    },
    {
     "cell_type": "code",
     "collapsed": false,
     "input": [
      "corrm2 = m2.div(pd.Series([8.,10.,11.,8.,10.,8.]).iloc[0],axis='index')\n",
      "corrm2e = m2e.div(pd.Series([8.,10.,11.,8.,10.,8.]).iloc[0],axis='index')"
     ],
     "language": "python",
     "metadata": {},
     "outputs": [],
     "prompt_number": null
    },
    {
     "cell_type": "code",
     "collapsed": false,
     "input": [
      "c2 = ((corrm2 - corrm2.mean(axis=0)) / corrm2.std(axis=0)).corr()\n",
      "c2e = ((corrm2e - corrm2e.mean(axis=0)) / corrm2e.std(axis=0)).corr()"
     ],
     "language": "python",
     "metadata": {},
     "outputs": [],
     "prompt_number": null
    },
    {
     "cell_type": "code",
     "collapsed": false,
     "input": [
      "make_corr_plot(c2,title=\"Grade Correlation\")\n",
      "make_corr_plot(c2e,title=\"Grade Correlation Extension\")"
     ],
     "language": "python",
     "metadata": {},
     "outputs": [],
     "prompt_number": null
    },
    {
     "cell_type": "code",
     "collapsed": false,
     "input": [
      "def make_scatter(xaxis, yaxis = \"Midterm 2 Final Score\"):\n",
      "    fig = plt.figure()\n",
      "    plt.scatter(percentiles[xaxis], percentiles[yaxis])\n",
      "    plt.title(\"{} vs {}\".format(yaxis,x))"
     ],
     "language": "python",
     "metadata": {},
     "outputs": [],
     "prompt_number": null
    },
    {
     "cell_type": "code",
     "collapsed": false,
     "input": [
      "psets = [\"Problem Set {} Final Score\".format(x) for x in xrange(1,7)]\n",
      "psets"
     ],
     "language": "python",
     "metadata": {},
     "outputs": [],
     "prompt_number": null
    },
    {
     "cell_type": "code",
     "collapsed": false,
     "input": [
      "for pset in psets:\n",
      "    make_scatter(pset)"
     ],
     "language": "python",
     "metadata": {},
     "outputs": [],
     "prompt_number": null
    },
    {
     "cell_type": "code",
     "collapsed": false,
     "input": [
      "def make_scatter_index(yaxis = \"Midterm 2 Final Score\"):\n",
      "    fig = plt.figure()\n",
      "    plt.scatter(percentiles.index, percentiles[yaxis])\n",
      "    plt.title(\"{} vs index\".format(yaxis))"
     ],
     "language": "python",
     "metadata": {},
     "outputs": [],
     "prompt_number": null
    },
    {
     "cell_type": "code",
     "collapsed": false,
     "input": [
      "for pset in psets:\n",
      "    make_scatter_index(pset)"
     ],
     "language": "python",
     "metadata": {},
     "outputs": [],
     "prompt_number": null
    },
    {
     "cell_type": "code",
     "collapsed": false,
     "input": [
      "# now we analyze gender data\n",
      "male = percentiles[percentiles.Gender == \"M\"]\n",
      "female = percentiles[percentiles.Gender == \"F\"]\n",
      "malee =percentilese[percentilese.Gender == \"M\"]\n",
      "femalee =percentilese[percentilese.Gender == \"F\"]"
     ],
     "language": "python",
     "metadata": {},
     "outputs": [],
     "prompt_number": null
    },
    {
     "cell_type": "code",
     "collapsed": false,
     "input": [
      "male.mean(), len(male)"
     ],
     "language": "python",
     "metadata": {},
     "outputs": [],
     "prompt_number": null
    },
    {
     "cell_type": "code",
     "collapsed": false,
     "input": [
      "female.mean(), len(female)"
     ],
     "language": "python",
     "metadata": {},
     "outputs": [],
     "prompt_number": null
    },
    {
     "cell_type": "code",
     "collapsed": false,
     "input": [
      "malee.mean(), len(malee)"
     ],
     "language": "python",
     "metadata": {},
     "outputs": [],
     "prompt_number": null
    },
    {
     "cell_type": "code",
     "collapsed": false,
     "input": [
      "femalee.mean(), len(femalee)"
     ],
     "language": "python",
     "metadata": {},
     "outputs": [],
     "prompt_number": null
    },
    {
     "cell_type": "code",
     "collapsed": false,
     "input": [
      "make_histogram(male['Problem Set 6 Final Score'], 'pset6_hist_male', 10)\n",
      "make_histogram(female['Problem Set 6 Final Score'], 'pset6_hist_female',10)"
     ],
     "language": "python",
     "metadata": {},
     "outputs": [],
     "prompt_number": null
    },
    {
     "cell_type": "code",
     "collapsed": false,
     "input": [
      "make_histogram(male['Midterm 2 Final Score'], 'pset6_hist_male', 10)\n",
      "make_histogram(female['Midterm 2 Final Score'], 'pset6_hist_female',10)"
     ],
     "language": "python",
     "metadata": {},
     "outputs": [],
     "prompt_number": null
    },
    {
     "cell_type": "code",
     "collapsed": false,
     "input": [
      "allgrades = getpset(\"Problem Set [0-9] Final|Midterm [0-2] Final\")\n",
      "allgradese = getpset(\"Problem Set [0-9] Final|Midterm [0-2] Final\", True)"
     ],
     "language": "python",
     "metadata": {},
     "outputs": [],
     "prompt_number": null
    },
    {
     "cell_type": "code",
     "collapsed": true,
     "input": [
      "make_corr_plot(allgrades, \"All Grades\")"
     ],
     "language": "python",
     "metadata": {},
     "outputs": [],
     "prompt_number": null
    },
    {
     "cell_type": "code",
     "collapsed": false,
     "input": [
      "allproblems = getpset(\"Pset [0-9]|Midterm [0-2] Final\")\n",
      "allproblemse = getpset(\"Pset [0-9]|Midterm [0-2] Final\", True)"
     ],
     "language": "python",
     "metadata": {},
     "outputs": [],
     "prompt_number": null
    },
    {
     "cell_type": "code",
     "collapsed": true,
     "input": [
      "make_corr_plot(allproblems, \"All Problems\")"
     ],
     "language": "python",
     "metadata": {},
     "outputs": [],
     "prompt_number": null
    },
    {
     "cell_type": "code",
     "collapsed": true,
     "input": [],
     "language": "python",
     "metadata": {},
     "outputs": [],
     "prompt_number": null
    }
   ],
   "metadata": {}
  }
 ]
}